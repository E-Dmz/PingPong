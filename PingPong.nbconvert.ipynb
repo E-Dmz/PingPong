{
 "cells": [
  {
   "cell_type": "code",
   "execution_count": 1,
   "metadata": {
    "execution": {
     "iopub.execute_input": "2021-07-11T08:08:53.185389Z",
     "iopub.status.busy": "2021-07-11T08:08:53.184964Z",
     "iopub.status.idle": "2021-07-11T08:08:53.263436Z",
     "shell.execute_reply": "2021-07-11T08:08:53.263099Z"
    }
   },
   "outputs": [],
   "source": [
    "import twitter\n",
    "from my_package.twitter_key import keys\n",
    "api = twitter.Api(**keys)"
   ]
  },
  {
   "cell_type": "code",
   "execution_count": 2,
   "metadata": {
    "execution": {
     "iopub.execute_input": "2021-07-11T08:08:53.268554Z",
     "iopub.status.busy": "2021-07-11T08:08:53.268219Z",
     "iopub.status.idle": "2021-07-11T08:08:53.270284Z",
     "shell.execute_reply": "2021-07-11T08:08:53.270494Z"
    }
   },
   "outputs": [
    {
     "data": {
      "text/plain": [
       "[]"
      ]
     },
     "execution_count": 1,
     "metadata": {},
     "output_type": "execute_result"
    }
   ],
   "source": [
    "with open(\"./my_package/IDs\", \"r\") as file:\n",
    "    old_status_ids = [int(status_id) for status_id in file.read().split('\\n') if status_id]\n",
    "old_status_ids"
   ]
  },
  {
   "cell_type": "code",
   "execution_count": 3,
   "metadata": {
    "execution": {
     "iopub.execute_input": "2021-07-11T08:08:53.273504Z",
     "iopub.status.busy": "2021-07-11T08:08:53.273190Z",
     "iopub.status.idle": "2021-07-11T08:08:53.572366Z",
     "shell.execute_reply": "2021-07-11T08:08:53.572666Z"
    }
   },
   "outputs": [
    {
     "data": {
      "text/plain": [
       "[Status(ID=1414129940174417920, ScreenName=E_Dmz, Created=Sun Jul 11 07:50:25 +0000 2021, Text='@E_Dmz_Bot ping'),\n",
       " Status(ID=1414112909471490048, ScreenName=E_Dmz, Created=Sun Jul 11 06:42:45 +0000 2021, Text='[Test] @E_Dmz_Bot ping')]"
      ]
     },
     "execution_count": 1,
     "metadata": {},
     "output_type": "execute_result"
    }
   ],
   "source": [
    "statuses_with_mention = api.GetMentions(count=None, since_id=None, max_id=None, trim_user=False, contributor_details=False, include_entities=True, return_json=False)\n",
    "statuses_with_mention"
   ]
  },
  {
   "cell_type": "code",
   "execution_count": 4,
   "metadata": {
    "execution": {
     "iopub.execute_input": "2021-07-11T08:08:53.576014Z",
     "iopub.status.busy": "2021-07-11T08:08:53.575643Z",
     "iopub.status.idle": "2021-07-11T08:08:53.577568Z",
     "shell.execute_reply": "2021-07-11T08:08:53.577256Z"
    }
   },
   "outputs": [
    {
     "data": {
      "text/plain": [
       "[Status(ID=1414129940174417920, ScreenName=E_Dmz, Created=Sun Jul 11 07:50:25 +0000 2021, Text='@E_Dmz_Bot ping'),\n",
       " Status(ID=1414112909471490048, ScreenName=E_Dmz, Created=Sun Jul 11 06:42:45 +0000 2021, Text='[Test] @E_Dmz_Bot ping')]"
      ]
     },
     "execution_count": 1,
     "metadata": {},
     "output_type": "execute_result"
    }
   ],
   "source": [
    "new_statuses = [status for status in statuses_with_mention if str(status.id) not in old_status_ids]\n",
    "new_statuses"
   ]
  },
  {
   "cell_type": "code",
   "execution_count": 5,
   "metadata": {
    "execution": {
     "iopub.execute_input": "2021-07-11T08:08:53.579661Z",
     "iopub.status.busy": "2021-07-11T08:08:53.579310Z",
     "iopub.status.idle": "2021-07-11T08:08:53.580519Z",
     "shell.execute_reply": "2021-07-11T08:08:53.580713Z"
    }
   },
   "outputs": [],
   "source": [
    "with open(\"./my_package/IDs\", \"a\") as file:\n",
    "    for status in new_statuses:\n",
    "        file.write(str(status.id) + '\\n')"
   ]
  },
  {
   "cell_type": "code",
   "execution_count": 6,
   "metadata": {
    "execution": {
     "iopub.execute_input": "2021-07-11T08:08:53.583710Z",
     "iopub.status.busy": "2021-07-11T08:08:53.583443Z",
     "iopub.status.idle": "2021-07-11T08:08:54.014173Z",
     "shell.execute_reply": "2021-07-11T08:08:54.013745Z"
    }
   },
   "outputs": [
    {
     "name": "stdout",
     "output_type": "stream",
     "text": [
      "1414129940174417920\n",
      "1414112909471490048\n"
     ]
    }
   ],
   "source": [
    "for new_status in new_statuses:\n",
    "    print(new_status.id)\n",
    "    status_posted = api.PostUpdate(f'pong', in_reply_to_status_id = new_status.id, auto_populate_reply_metadata = True)"
   ]
  }
 ],
 "metadata": {
  "kernelspec": {
   "display_name": "Python 3",
   "language": "python",
   "name": "python3"
  },
  "language_info": {
   "codemirror_mode": {
    "name": "ipython",
    "version": 3
   },
   "file_extension": ".py",
   "mimetype": "text/x-python",
   "name": "python",
   "nbconvert_exporter": "python",
   "pygments_lexer": "ipython3",
   "version": "3.8.10"
  }
 },
 "nbformat": 4,
 "nbformat_minor": 2
}
