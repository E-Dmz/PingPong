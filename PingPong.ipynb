{
 "cells": [
  {
   "cell_type": "code",
   "execution_count": 1,
   "metadata": {},
   "outputs": [],
   "source": [
    "# start twitter API (you need a twitter_key file)\n",
    "import twitter\n",
    "from my_package.twitter_key import keys\n",
    "api = twitter.Api(**keys)"
   ]
  },
  {
   "cell_type": "code",
   "execution_count": null,
   "metadata": {},
   "outputs": [],
   "source": [
    "# load old status ids (you need a IDs file)\n",
    "with open(\"./my_package/IDs\", \"r\") as file:\n",
    "    old_status_ids = [int(status_id) for status_id in file.read().split('\\n') if status_id]\n",
    "old_status_ids"
   ]
  },
  {
   "cell_type": "code",
   "execution_count": 3,
   "metadata": {},
   "outputs": [
    {
     "data": {
      "text/plain": [
       "[Status(ID=1414112909471490048, ScreenName=E_Dmz, Created=Sun Jul 11 06:42:45 +0000 2021, Text='[Test] @E_Dmz_Bot ping')]"
      ]
     },
     "execution_count": 3,
     "metadata": {},
     "output_type": "execute_result"
    }
   ],
   "source": [
    "# retrieve statuses with mention (be aware that only 20 new statuses can be retrieved)\n",
    "statuses_with_mention = api.GetMentions(count=None, since_id=None, max_id=None, trim_user=False, contributor_details=False, include_entities=True, return_json=False)\n",
    "# filter them to get only new statuses\n",
    "new_statuses = [status for status in statuses_with_mention if str(status.id) not in old_status_ids]\n",
    "print(new_statuses)\n",
    "# keep a memory of statuses examined\n",
    "with open(\"./my_package/IDs\", \"a\") as file:\n",
    "    for status in new_statuses:\n",
    "        file.write(str(status.id) + '\\n')"
   ]
  },
  {
   "cell_type": "code",
   "execution_count": 6,
   "metadata": {},
   "outputs": [
    {
     "name": "stdout",
     "output_type": "stream",
     "text": [
      "1414112909471490048\n"
     ]
    }
   ],
   "source": [
    "# have the job done\n",
    "for status in new_statuses:\n",
    "    if 'ping' in status.text:\n",
    "        status_posted = api.PostUpdate(f'pong', in_reply_to_status_id = status.id, auto_populate_reply_metadata = True)"
   ]
  }
 ],
 "metadata": {
  "kernelspec": {
   "display_name": "Python 3",
   "language": "python",
   "name": "python3"
  },
  "language_info": {
   "codemirror_mode": {
    "name": "ipython",
    "version": 3
   },
   "file_extension": ".py",
   "mimetype": "text/x-python",
   "name": "python",
   "nbconvert_exporter": "python",
   "pygments_lexer": "ipython3",
   "version": "3.8.10"
  }
 },
 "nbformat": 4,
 "nbformat_minor": 2
}
